{
 "cells": [
  {
   "cell_type": "code",
   "execution_count": 60,
   "metadata": {},
   "outputs": [],
   "source": [
    "def func1(names, db):\n",
    "    idx = []\n",
    "    for i in names:\n",
    "        if i in db:\n",
    "            idx.append(db.index(i))\n",
    "    return idx"
   ]
  },
  {
   "cell_type": "code",
   "execution_count": 70,
   "metadata": {},
   "outputs": [],
   "source": [
    "import numpy as np\n",
    "\n",
    "def func2(names, db):\n",
    "    a = np.arange(len(db))\n",
    "    return a[np.isin(db,names)]"
   ]
  },
  {
   "cell_type": "code",
   "execution_count": 76,
   "metadata": {},
   "outputs": [
    {
     "name": "stdout",
     "output_type": "stream",
     "text": [
      "7.07 ms ± 196 µs per loop (mean ± std. dev. of 7 runs, 100 loops each)\n",
      "1.93 ms ± 156 µs per loop (mean ± std. dev. of 7 runs, 1000 loops each)\n"
     ]
    }
   ],
   "source": [
    "names = range(100000)\n",
    "db = range(99998,99998+10)\n",
    "\n",
    "names2 = np.array(names)\n",
    "db2 = np.array(db)\n",
    "\n",
    "%timeit func1(names,db)\n",
    "%timeit func2(names2, db2)"
   ]
  },
  {
   "cell_type": "code",
   "execution_count": null,
   "metadata": {},
   "outputs": [],
   "source": []
  },
  {
   "cell_type": "code",
   "execution_count": 152,
   "metadata": {},
   "outputs": [],
   "source": [
    "def search_pairs(coordinates, cirle_r0):\n",
    "    pair_dists = np.linalg.norm(coordinates[:, np.newaxis, :] - coordinates, axis=2)\n",
    "    points_in_r0 = np.linalg.norm(coordinates, axis=1) < cirle_r0\n",
    "    \n",
    "    mask_r0 = points_in_r0[: , np.newaxis] ^ points_in_r0\n",
    "    mask_r0 = np.tril(mask_r0, k=-1) # get the lower-triangular part\n",
    "    pair_dists = np.tril(pair_dists, k = -1) # get the lower-triangular part\n",
    "    \n",
    "    uniq_dists = pair_dists[mask_r0]\n",
    "    three_largest = np.partition(uniq_dists, -3)[-3:]\n",
    "    \n",
    "    index = np.where(np.isin(pair_dists, three_largest))\n",
    "    return np.transpose(index)"
   ]
  },
  {
   "cell_type": "code",
   "execution_count": 153,
   "metadata": {},
   "outputs": [],
   "source": [
    "coordinates = np.array(\n",
    "[[0.968, 0.313],\n",
    " [0.692, 0.876],\n",
    " [0.895, 0.085],\n",
    " [0.039, 0.17 ],\n",
    " [0.878, 0.098]]\n",
    ")"
   ]
  },
  {
   "cell_type": "code",
   "execution_count": 154,
   "metadata": {},
   "outputs": [
    {
     "name": "stdout",
     "output_type": "stream",
     "text": [
      "[[2 1]\n",
      " [3 0]\n",
      " [3 1]]\n"
     ]
    }
   ],
   "source": [
    "cirle_r0 = 0.9\n",
    "print(search_pairs(coordinates, cirle_r0))"
   ]
  }
 ],
 "metadata": {
  "kernelspec": {
   "display_name": "Python 3",
   "language": "python",
   "name": "python3"
  },
  "language_info": {
   "codemirror_mode": {
    "name": "ipython",
    "version": 3
   },
   "file_extension": ".py",
   "mimetype": "text/x-python",
   "name": "python",
   "nbconvert_exporter": "python",
   "pygments_lexer": "ipython3",
   "version": "3.7.6"
  }
 },
 "nbformat": 4,
 "nbformat_minor": 4
}

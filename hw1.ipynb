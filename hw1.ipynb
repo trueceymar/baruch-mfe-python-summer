{
 "cells": [
  {
   "cell_type": "markdown",
   "metadata": {},
   "source": [
    "# Write a Jupyter Magic"
   ]
  },
  {
   "cell_type": "code",
   "execution_count": 44,
   "metadata": {},
   "outputs": [],
   "source": [
    "from IPython.core.magic import (register_line_cell_magic)\n",
    "\n",
    "@register_line_cell_magic\n",
    "def countwords(line, cell=None):\n",
    "    \"Magic that works both as %lcmagic and as %%lcmagic\"\n",
    "    if cell is None:\n",
    "        return len(str(line).split())\n",
    "    else:\n",
    "        return len(str(cell).split())"
   ]
  },
  {
   "cell_type": "code",
   "execution_count": 45,
   "metadata": {},
   "outputs": [
    {
     "data": {
      "text/plain": [
       "5"
      ]
     },
     "execution_count": 45,
     "metadata": {},
     "output_type": "execute_result"
    }
   ],
   "source": [
    "%countwords this is a line magic"
   ]
  },
  {
   "cell_type": "code",
   "execution_count": 46,
   "metadata": {},
   "outputs": [
    {
     "data": {
      "text/plain": [
       "5"
      ]
     },
     "execution_count": 46,
     "metadata": {},
     "output_type": "execute_result"
    }
   ],
   "source": [
    "%%countwords \n",
    "this is a magic\n",
    "cell"
   ]
  },
  {
   "cell_type": "markdown",
   "metadata": {},
   "source": [
    "# Profile the speed of list comprehension vs. for loops"
   ]
  },
  {
   "cell_type": "code",
   "execution_count": 54,
   "metadata": {},
   "outputs": [
    {
     "name": "stdout",
     "output_type": "stream",
     "text": [
      "CPU times: user 700 µs, sys: 23 µs, total: 723 µs\n",
      "Wall time: 761 µs\n"
     ]
    }
   ],
   "source": [
    "%time l1=[x for x in range(10000)]"
   ]
  },
  {
   "cell_type": "code",
   "execution_count": 55,
   "metadata": {},
   "outputs": [
    {
     "name": "stdout",
     "output_type": "stream",
     "text": [
      "CPU times: user 1.27 ms, sys: 0 ns, total: 1.27 ms\n",
      "Wall time: 1.28 ms\n"
     ]
    }
   ],
   "source": [
    "l2 = []\n",
    "%time for i in range(10000): l2.append(i)"
   ]
  },
  {
   "cell_type": "code",
   "execution_count": 56,
   "metadata": {},
   "outputs": [
    {
     "name": "stdout",
     "output_type": "stream",
     "text": [
      "CPU times: user 388 µs, sys: 132 µs, total: 520 µs\n",
      "Wall time: 524 µs\n"
     ]
    }
   ],
   "source": [
    "%%time\n",
    "l3=[x for x in range(10000)]"
   ]
  },
  {
   "cell_type": "code",
   "execution_count": 59,
   "metadata": {},
   "outputs": [],
   "source": [
    "l4 = []"
   ]
  },
  {
   "cell_type": "code",
   "execution_count": 60,
   "metadata": {},
   "outputs": [
    {
     "name": "stdout",
     "output_type": "stream",
     "text": [
      "CPU times: user 1.51 ms, sys: 564 µs, total: 2.08 ms\n",
      "Wall time: 2.09 ms\n"
     ]
    }
   ],
   "source": [
    "%%time \n",
    "for i in range(10000): \n",
    "    l4.append(i)"
   ]
  },
  {
   "cell_type": "markdown",
   "metadata": {},
   "source": [
    "# Prime numbers"
   ]
  },
  {
   "cell_type": "code",
   "execution_count": 61,
   "metadata": {},
   "outputs": [],
   "source": [
    "def myprime(nums):\n",
    "    return [num for num in nums if num > 1 and all(num % k != 0 for k in range(2, int(num ** (1/2)) + 1))]"
   ]
  },
  {
   "cell_type": "code",
   "execution_count": 64,
   "metadata": {},
   "outputs": [
    {
     "name": "stdout",
     "output_type": "stream",
     "text": [
      "[2, 3, 5, 7]\n"
     ]
    }
   ],
   "source": [
    "print(myprime(range(10)))"
   ]
  },
  {
   "cell_type": "markdown",
   "metadata": {},
   "source": [
    "# Extend the Vector class"
   ]
  },
  {
   "cell_type": "code",
   "execution_count": 96,
   "metadata": {},
   "outputs": [],
   "source": [
    "from math import hypot \n",
    "\n",
    "class Vector:\n",
    "    def __init__(self, *args): \n",
    "        self.v = args\n",
    "  \n",
    "    def __repr__(self):\n",
    "        return f'Vector{self.v}'\n",
    "    \n",
    "    def __str__(self):\n",
    "        return f\"Vector{self.v}\"\n",
    "\n",
    "    def __add__(self, other): \n",
    "        return Vector(*[v1 + v2 for v1,v2 in zip(self.v,other.v)])\n",
    "\n",
    "    def __mul__(self, scalar):\n",
    "        return Vector(* [ _*scalar for _ in self.v])\n",
    "    \n",
    "    def __pow__(self,n):\n",
    "        return Vector(*[ *(x ** n for x in self.v) ])\n",
    "    \n",
    "    def __getitem__(self, i):\n",
    "        if isinstance(i, int):\n",
    "            return self.v[i]\n",
    "        if isinstance(i, slice):\n",
    "            return Vector(*self.v[i])\n",
    "        \n",
    "    def __len__(self):\n",
    "        return len(self.v)"
   ]
  },
  {
   "cell_type": "code",
   "execution_count": 97,
   "metadata": {},
   "outputs": [
    {
     "data": {
      "text/plain": [
       "3"
      ]
     },
     "execution_count": 97,
     "metadata": {},
     "output_type": "execute_result"
    }
   ],
   "source": [
    "v = Vector(1, 2, 3, 4, 5)\n",
    "v[2]"
   ]
  },
  {
   "cell_type": "code",
   "execution_count": 98,
   "metadata": {},
   "outputs": [
    {
     "data": {
      "text/plain": [
       "Vector(3,)"
      ]
     },
     "execution_count": 98,
     "metadata": {},
     "output_type": "execute_result"
    }
   ],
   "source": [
    "v[2:3]"
   ]
  },
  {
   "cell_type": "code",
   "execution_count": 99,
   "metadata": {},
   "outputs": [
    {
     "data": {
      "text/plain": [
       "5"
      ]
     },
     "execution_count": 99,
     "metadata": {},
     "output_type": "execute_result"
    }
   ],
   "source": [
    "len(v)"
   ]
  },
  {
   "cell_type": "code",
   "execution_count": 100,
   "metadata": {},
   "outputs": [
    {
     "data": {
      "text/plain": [
       "Vector(1, 4, 9, 16, 25)"
      ]
     },
     "execution_count": 100,
     "metadata": {},
     "output_type": "execute_result"
    }
   ],
   "source": [
    "v**2"
   ]
  },
  {
   "cell_type": "markdown",
   "metadata": {},
   "source": [
    "# Case-insensitive dictionary"
   ]
  },
  {
   "cell_type": "code",
   "execution_count": 139,
   "metadata": {},
   "outputs": [],
   "source": [
    "from collections import UserDict\n",
    "\n",
    "class CaseInsensitiveDict( UserDict ):\n",
    "    \n",
    "    def __init__(self, *args, **kwargs):\n",
    "        super().__init__(*args, **kwargs)\n",
    "        self._keys ={ _.lower() : _ for _ in self.data}\n",
    "            \n",
    "    def __getitem__(self, key):\n",
    "        return self.data[self._keys[key.lower()]]\n",
    "\n",
    "    def __contains__(self, key):\n",
    "        return key.lower() in self._keys    \n",
    "    def __delitem__(self, key):\n",
    "        del self.data[self._keys[key.lower()]]\n",
    "        del self._keys[key.lower()]\n",
    "        \n",
    "    def __setitem__(self, key, item):\n",
    "        if key in self:\n",
    "            del self[key]\n",
    "        self.data[key] = item\n",
    "        self._keys[key.lower()] = key"
   ]
  },
  {
   "cell_type": "code",
   "execution_count": 140,
   "metadata": {},
   "outputs": [
    {
     "name": "stdout",
     "output_type": "stream",
     "text": [
      "3\n"
     ]
    }
   ],
   "source": [
    "d = CaseInsensitiveDict()\n",
    "d['A'] = 3\n",
    "print(d['a'])"
   ]
  },
  {
   "cell_type": "code",
   "execution_count": 141,
   "metadata": {},
   "outputs": [
    {
     "name": "stdout",
     "output_type": "stream",
     "text": [
      "4\n"
     ]
    }
   ],
   "source": [
    "d['A'] = 4\n",
    "print(d['a'])"
   ]
  },
  {
   "cell_type": "code",
   "execution_count": 142,
   "metadata": {},
   "outputs": [
    {
     "name": "stdout",
     "output_type": "stream",
     "text": [
      "{'A': 4}\n"
     ]
    }
   ],
   "source": [
    "print(d)"
   ]
  }
 ],
 "metadata": {
  "kernelspec": {
   "display_name": "Python 3",
   "language": "python",
   "name": "python3"
  },
  "language_info": {
   "codemirror_mode": {
    "name": "ipython",
    "version": 3
   },
   "file_extension": ".py",
   "mimetype": "text/x-python",
   "name": "python",
   "nbconvert_exporter": "python",
   "pygments_lexer": "ipython3",
   "version": "3.7.6"
  }
 },
 "nbformat": 4,
 "nbformat_minor": 4
}

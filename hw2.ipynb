{
 "cells": [
  {
   "cell_type": "markdown",
   "metadata": {},
   "source": [
    "# Merge sorted stream¶"
   ]
  },
  {
   "cell_type": "code",
   "execution_count": 74,
   "metadata": {},
   "outputs": [],
   "source": [
    "def merge_sorted_stream(*args):\n",
    "    streams = [iter(arg) for arg in args]\n",
    "    \n",
    "    # we will compare smallest elements in each stream\n",
    "    working_list = [next(stream) for stream in streams]\n",
    "    \n",
    "    while working_list:\n",
    "        min_val = min(working_list)\n",
    "        min_idx = working_list.index(min_val)\n",
    "        yield min_val\n",
    "        \n",
    "        try:\n",
    "            refresh_ele = next(streams[min_idx])\n",
    "        except StopIteration:\n",
    "            del working_list[min_idx]\n",
    "            del streams[min_idx]\n",
    "        else:\n",
    "            working_list[min_idx] = refresh_ele"
   ]
  },
  {
   "cell_type": "code",
   "execution_count": 75,
   "metadata": {},
   "outputs": [
    {
     "name": "stdout",
     "output_type": "stream",
     "text": [
      "0\n",
      "1\n",
      "2\n",
      "3\n",
      "4\n",
      "5\n",
      "6\n",
      "7\n",
      "8\n",
      "9\n"
     ]
    }
   ],
   "source": [
    "stream1 = range(0, 10, 2)\n",
    "stream2 = range(1, 10, 2)\n",
    "\n",
    "for x in merge_sorted_stream(stream1, stream2):\n",
    "    print(x)"
   ]
  },
  {
   "cell_type": "code",
   "execution_count": 76,
   "metadata": {},
   "outputs": [
    {
     "name": "stdout",
     "output_type": "stream",
     "text": [
      "0\n",
      "1\n",
      "2\n",
      "3\n",
      "4\n",
      "5\n",
      "6\n",
      "7\n",
      "8\n",
      "9\n",
      "10\n",
      "12\n",
      "14\n",
      "16\n",
      "18\n"
     ]
    }
   ],
   "source": [
    "stream1 = range(0, 10, 2)\n",
    "stream2 = range(1, 10, 2)\n",
    "stream3 = range(10,20,2)\n",
    "\n",
    "for x in merge_sorted_stream(stream1, stream2, stream3):\n",
    "    print(x)"
   ]
  },
  {
   "cell_type": "markdown",
   "metadata": {},
   "source": [
    "# Tree traversal"
   ]
  },
  {
   "cell_type": "code",
   "execution_count": 216,
   "metadata": {},
   "outputs": [],
   "source": [
    "class TreeNode:\n",
    "\n",
    "    def __init__(self, val):\n",
    "        self._val = val\n",
    "        self.left = None\n",
    "        self.right = None\n",
    "\n",
    "    def in_order(self):\n",
    "        if self.left :\n",
    "            for ele in self.left.in_order():\n",
    "                yield ele\n",
    "        yield(str(self._val))\n",
    "        if self.right :\n",
    "            for ele in self.right.in_order():\n",
    "                yield ele\n",
    "            \n",
    "    def pre_order(self):\n",
    "        yield(str(self._val))\n",
    "        if self.left :\n",
    "            for ele in self.left.pre_order():\n",
    "                yield ele\n",
    "        if self.right :\n",
    "            for ele in self.right.pre_order():\n",
    "                yield ele\n",
    "                \n",
    "    def post_order(self):\n",
    "        if self.left :\n",
    "            for ele in self.left.post_order():\n",
    "                yield ele\n",
    "        if self.right :\n",
    "            for ele in self.right.post_order():\n",
    "                yield ele\n",
    "        yield(str(self._val))"
   ]
  },
  {
   "cell_type": "code",
   "execution_count": 217,
   "metadata": {},
   "outputs": [],
   "source": [
    "root = TreeNode(1)\n",
    "root.left = TreeNode(2)\n",
    "root.right = TreeNode(3)\n",
    "root.left.left = TreeNode(4)\n",
    "root.left.right = TreeNode(5)"
   ]
  },
  {
   "cell_type": "code",
   "execution_count": 218,
   "metadata": {},
   "outputs": [
    {
     "name": "stdout",
     "output_type": "stream",
     "text": [
      "4 -> 2 -> 5 -> 1 -> 3\n"
     ]
    }
   ],
   "source": [
    "print(' -> '. join(item for item in root.in_order()))"
   ]
  },
  {
   "cell_type": "code",
   "execution_count": 219,
   "metadata": {},
   "outputs": [
    {
     "name": "stdout",
     "output_type": "stream",
     "text": [
      "1 -> 2 -> 4 -> 5 -> 3\n"
     ]
    }
   ],
   "source": [
    "print(' -> '. join(item for item in root.pre_order()))"
   ]
  },
  {
   "cell_type": "code",
   "execution_count": 220,
   "metadata": {},
   "outputs": [
    {
     "name": "stdout",
     "output_type": "stream",
     "text": [
      "4 -> 5 -> 2 -> 3 -> 1\n"
     ]
    }
   ],
   "source": [
    "print(' -> '. join(item for item in root.post_order()))"
   ]
  },
  {
   "cell_type": "markdown",
   "metadata": {},
   "source": [
    "# Implement a timer"
   ]
  },
  {
   "cell_type": "code",
   "execution_count": null,
   "metadata": {},
   "outputs": [],
   "source": [
    "class LookingGlass:\n",
    "    \n",
    "    def __enter__(self):\n",
    "        import sys\n",
    "        self.original_write = sys.stdout.write\n",
    "        sys.stdout.write = self.reverse_write\n",
    "        return 'RETURN VALUE OF __enter__'\n",
    "    \n",
    "    def reverse_write(self, text):\n",
    "        self.original_write(text[::-1])\n",
    "        \n",
    "    def __exit__(self, exc_type, exc_value, traceback):\n",
    "        import sys\n",
    "        sys.stdout.write = self.original_write\n",
    "        if exc_type is ZeroDivisionError:\n",
    "            print('Please DO NOT divide by zero!')\n",
    "            return True  #  tell the interpreter that the exception was handled."
   ]
  },
  {
   "cell_type": "code",
   "execution_count": 268,
   "metadata": {},
   "outputs": [],
   "source": [
    "class timer:\n",
    "    def __init__(self):\n",
    "        pass\n",
    "    \n",
    "    # decorator\n",
    "    def __call__(self, func):\n",
    "        import time\n",
    "        import functools\n",
    "        \n",
    "        @functools.wraps(func)\n",
    "        def inner(x):\n",
    "            self._start_time = time.time()\n",
    "            \n",
    "            res = func(x)\n",
    "            \n",
    "            print(f\"--- {time.time() - self._start_time} seconds ---\")\n",
    "            return res\n",
    "        return inner\n",
    "    \n",
    "    # context manager\n",
    "    def __enter__(self):\n",
    "        import time \n",
    "        self._start_time = time.time()\n",
    "        \n",
    "    def __exit__(self,exc_type, exc_value, traceback):\n",
    "        print(f\"--- {time.time() - self._start_time} seconds ---\")\n"
   ]
  },
  {
   "cell_type": "code",
   "execution_count": 269,
   "metadata": {},
   "outputs": [
    {
     "name": "stdout",
     "output_type": "stream",
     "text": [
      "--- 3.004232883453369 seconds ---\n"
     ]
    }
   ],
   "source": [
    "# implement it as a decorator\n",
    "@timer()\n",
    "def sleep(secs):\n",
    "    time.sleep(secs)\n",
    "\n",
    "sleep(3)"
   ]
  },
  {
   "cell_type": "code",
   "execution_count": 270,
   "metadata": {},
   "outputs": [
    {
     "name": "stdout",
     "output_type": "stream",
     "text": [
      "--- 3.0052249431610107 seconds ---\n"
     ]
    }
   ],
   "source": [
    "# implement it as a context manager\n",
    "with timer() as timer:\n",
    "    time.sleep(3)"
   ]
  }
 ],
 "metadata": {
  "kernelspec": {
   "display_name": "Python 3",
   "language": "python",
   "name": "python3"
  },
  "language_info": {
   "codemirror_mode": {
    "name": "ipython",
    "version": 3
   },
   "file_extension": ".py",
   "mimetype": "text/x-python",
   "name": "python",
   "nbconvert_exporter": "python",
   "pygments_lexer": "ipython3",
   "version": "3.7.6"
  }
 },
 "nbformat": 4,
 "nbformat_minor": 4
}

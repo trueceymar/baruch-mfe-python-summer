{
 "cells": [
  {
   "cell_type": "code",
   "execution_count": 1,
   "metadata": {},
   "outputs": [],
   "source": [
    "import numpy as np\n",
    "import pandas as pd\n",
    "import heapq\n",
    "import math"
   ]
  },
  {
   "cell_type": "markdown",
   "metadata": {},
   "source": [
    "# Question 1 Algorithmic questions"
   ]
  },
  {
   "cell_type": "code",
   "execution_count": 2,
   "metadata": {},
   "outputs": [],
   "source": [
    "def kth_largest(data, k):\n",
    "    if len(data) < k:\n",
    "        print('The length of data is too short.')\n",
    "        return\n",
    "    \n",
    "    h = []\n",
    "    for i in range(k):\n",
    "        heapq.heappush(h, data[i])\n",
    "    \n",
    "    for j in range(k,len(data)):\n",
    "        if data[j] > h[0] :\n",
    "            heapq.heapreplace(h, data[j])\n",
    "            \n",
    "    return heapq.heappop(h)"
   ]
  },
  {
   "cell_type": "markdown",
   "metadata": {},
   "source": [
    "# Develop several test cases and explain why you choose these test cases"
   ]
  },
  {
   "cell_type": "code",
   "execution_count": 3,
   "metadata": {},
   "outputs": [
    {
     "data": {
      "text/plain": [
       "3"
      ]
     },
     "execution_count": 3,
     "metadata": {},
     "output_type": "execute_result"
    }
   ],
   "source": [
    "# Case 1\n",
    "# This is the most common case\n",
    "kth_largest([1,3,2,5,4], 3)"
   ]
  },
  {
   "cell_type": "code",
   "execution_count": 4,
   "metadata": {},
   "outputs": [
    {
     "name": "stdout",
     "output_type": "stream",
     "text": [
      "The length of data is too short.\n"
     ]
    }
   ],
   "source": [
    "# Case 2\n",
    "# When there is an input error\n",
    "kth_largest([1,3], 3)"
   ]
  },
  {
   "cell_type": "code",
   "execution_count": 5,
   "metadata": {},
   "outputs": [
    {
     "data": {
      "text/plain": [
       "2"
      ]
     },
     "execution_count": 5,
     "metadata": {},
     "output_type": "execute_result"
    }
   ],
   "source": [
    "# Case 3\n",
    "# When all elements are equal\n",
    "kth_largest([2,2,2], 3)"
   ]
  },
  {
   "cell_type": "code",
   "execution_count": 6,
   "metadata": {},
   "outputs": [
    {
     "data": {
      "text/plain": [
       "2"
      ]
     },
     "execution_count": 6,
     "metadata": {},
     "output_type": "execute_result"
    }
   ],
   "source": [
    "# Case 4\n",
    "# When the elements are not distinct.\n",
    "kth_largest([1,2,2,3], 3)"
   ]
  },
  {
   "cell_type": "markdown",
   "metadata": {},
   "source": [
    "# Analyze the time complexity of your algorithm.\n"
   ]
  },
  {
   "cell_type": "code",
   "execution_count": 7,
   "metadata": {},
   "outputs": [
    {
     "data": {
      "text/plain": [
       "'Time complexity of my algorithm is: k*logk + (n-k)*logk = nlogk'"
      ]
     },
     "execution_count": 7,
     "metadata": {},
     "output_type": "execute_result"
    }
   ],
   "source": [
    "'Time complexity of my algorithm is: k*logk + (n-k)*logk = nlogk'"
   ]
  },
  {
   "cell_type": "markdown",
   "metadata": {},
   "source": [
    "# Question 2 Multithreading pop"
   ]
  },
  {
   "cell_type": "code",
   "execution_count": 66,
   "metadata": {},
   "outputs": [],
   "source": [
    "from queue import Queue\n",
    "import time\n",
    "n = 10000\n",
    "\n",
    "def InitiateQueue(n):\n",
    "    q=Queue(maxsize = n)\n",
    "    for i in range(n):\n",
    "        q.put(i)\n",
    "    return q"
   ]
  },
  {
   "cell_type": "code",
   "execution_count": 67,
   "metadata": {},
   "outputs": [],
   "source": [
    "import threading\n",
    "threads = []\n",
    "eles = []\n",
    "\n",
    "def popele(eles):\n",
    "    while True:\n",
    "        ele = q.get()\n",
    "        eles.append(ele)\n",
    "        \n",
    "        for i in range(100):\n",
    "            cost_cpu_time = ele**2 + (math.sqrt(ele+0.5))**2 + (math.log(ele+1.5))**2\n",
    "        time.sleep(1e-3)\n",
    "        \n",
    "        q.task_done()\n",
    "        \n",
    "def multithreading(q, k):\n",
    "    threads = []\n",
    "    eles = []\n",
    "    \n",
    "    for index in range(k):\n",
    "        t = threading.Thread(target=popele,args=(eles,))\n",
    "        threads.append(t)\n",
    "        t.start()\n",
    "    q.join()\n",
    "    \n",
    "    return sum(eles)"
   ]
  },
  {
   "cell_type": "code",
   "execution_count": 68,
   "metadata": {},
   "outputs": [
    {
     "name": "stdout",
     "output_type": "stream",
     "text": [
      "CPU times: user 2.26 s, sys: 179 ms, total: 2.44 s\n",
      "Wall time: 15.6 s\n"
     ]
    },
    {
     "data": {
      "text/plain": [
       "49995000"
      ]
     },
     "execution_count": 68,
     "metadata": {},
     "output_type": "execute_result"
    }
   ],
   "source": [
    "q = InitiateQueue(n)\n",
    "%time multithreading(q,1)"
   ]
  },
  {
   "cell_type": "code",
   "execution_count": 69,
   "metadata": {},
   "outputs": [
    {
     "name": "stdout",
     "output_type": "stream",
     "text": [
      "CPU times: user 1.11 s, sys: 136 ms, total: 1.25 s\n",
      "Wall time: 2.76 s\n"
     ]
    },
    {
     "data": {
      "text/plain": [
       "49995000"
      ]
     },
     "execution_count": 69,
     "metadata": {},
     "output_type": "execute_result"
    }
   ],
   "source": [
    "q = InitiateQueue(n)\n",
    "%time multithreading(q,5)"
   ]
  },
  {
   "cell_type": "code",
   "execution_count": 70,
   "metadata": {},
   "outputs": [
    {
     "name": "stdout",
     "output_type": "stream",
     "text": [
      "CPU times: user 979 ms, sys: 127 ms, total: 1.11 s\n",
      "Wall time: 1.05 s\n"
     ]
    },
    {
     "data": {
      "text/plain": [
       "49995000"
      ]
     },
     "execution_count": 70,
     "metadata": {},
     "output_type": "execute_result"
    }
   ],
   "source": [
    "q = InitiateQueue(n)\n",
    "%time multithreading(q,20)"
   ]
  },
  {
   "cell_type": "code",
   "execution_count": 73,
   "metadata": {},
   "outputs": [
    {
     "name": "stdout",
     "output_type": "stream",
     "text": [
      "As the number of threads increases, the Wall/CPU time cost is descreasing.\n",
      "It is because multiple threads are working concurrently.\n"
     ]
    }
   ],
   "source": [
    "print('As the number of threads increases, the Wall/CPU time cost is descreasing.')\n",
    "print('It is because multiple threads are working concurrently.')"
   ]
  },
  {
   "cell_type": "code",
   "execution_count": null,
   "metadata": {},
   "outputs": [],
   "source": []
  }
 ],
 "metadata": {
  "kernelspec": {
   "display_name": "Python 3",
   "language": "python",
   "name": "python3"
  },
  "language_info": {
   "codemirror_mode": {
    "name": "ipython",
    "version": 3
   },
   "file_extension": ".py",
   "mimetype": "text/x-python",
   "name": "python",
   "nbconvert_exporter": "python",
   "pygments_lexer": "ipython3",
   "version": "3.7.6"
  }
 },
 "nbformat": 4,
 "nbformat_minor": 4
}
